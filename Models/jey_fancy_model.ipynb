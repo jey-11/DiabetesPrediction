{
 "cells": [
  {
   "cell_type": "code",
   "execution_count": 43,
   "metadata": {},
   "outputs": [],
   "source": [
    "from sklearn.naive_bayes import GaussianNB\n",
    "import gzip\n",
    "from collections import defaultdict\n",
    "import math\n",
    "import scipy.optimize\n",
    "import matplotlib.pyplot as plt\n",
    "from sklearn.svm import SVC\n",
    "import numpy as np\n",
    "from sklearn import linear_model\n",
    "import pandas as pd \n",
    "from ydata_profiling import ProfileReport\n",
    "from sklearn.metrics import balanced_accuracy_score\n",
    "from sklearn.metrics import f1_score\n",
    "from sklearn.tree import DecisionTreeClassifier"
   ]
  },
  {
   "cell_type": "code",
   "execution_count": 3,
   "metadata": {},
   "outputs": [],
   "source": [
    "file_path_train = \"C:/Users/jeyas/OneDrive/Documents/CSE158/HeartAttackPrediction/Datasets/smote_diabetes_train.csv\"\n",
    "file_path_test = \"C:/Users/jeyas/OneDrive/Documents/CSE158/HeartAttackPrediction/Datasets/diabetes_test.csv\"\n",
    "dataTrain = pd.read_csv(file_path_train) #, index_col = \"Unnamed:0\")\n",
    "dataTest = pd.read_csv(file_path_test)\n",
    "dataTest.rename(columns = {\"Unnamed: 0\": \"index\"}, inplace = True)\n",
    "dataTrain.rename(columns = {\"Unnamed: 0\": \"index\"}, inplace = True)"
   ]
  },
  {
   "cell_type": "markdown",
   "metadata": {},
   "source": [
    "Load Dataset and Error Measurement"
   ]
  },
  {
   "cell_type": "code",
   "execution_count": 26,
   "metadata": {},
   "outputs": [],
   "source": [
    "def accuracy(predictions, y):\n",
    "    correct = [1 if dataTrain.loc[row]['diabetes'] == pred else 0 for pred,row in zip(predictions, dataTrain.index)]\n",
    "    return sum(correct)/len(correct)"
   ]
  },
  {
   "cell_type": "code",
   "execution_count": 27,
   "metadata": {},
   "outputs": [],
   "source": [
    "def BER(pred, y):\n",
    "    TP = np.sum([(p and l) for (p,l) in zip(pred, y)])\n",
    "    FP = np.sum([(p and not l) for (p,l) in zip(pred, y)])\n",
    "    TN = np.sum([(not p and not l) for (p,l) in zip(pred, y)])\n",
    "    FN = np.sum([(not p and l) for (p,l) in zip(pred, y)])\n",
    "    TPR = TP / (TP + FN)\n",
    "    TNR = TN / (TN + FP)\n",
    "    BER = 1 - 1/2 * (TPR + TNR)\n",
    "    return BER"
   ]
  },
  {
   "cell_type": "code",
   "execution_count": 29,
   "metadata": {},
   "outputs": [],
   "source": [
    "def Recall(pred, y):\n",
    "    TP = np.sum([(p and l) for (p,l) in zip(pred, y)])\n",
    "    FN = np.sum([(not p and l) for (p,l) in zip(pred, y)])\n",
    "    return TP/(TP + FN)"
   ]
  },
  {
   "cell_type": "code",
   "execution_count": 33,
   "metadata": {},
   "outputs": [],
   "source": [
    "def feature(index, dataTrain = dataTrain): \n",
    "    f1 = dataTrain.loc[index][\"gender\"]\n",
    "    f2 = dataTrain.loc[index][\"age\"]\n",
    "    f3 = dataTrain.loc[index][\"hypertension\"]\n",
    "    f4 = dataTrain.loc[index][\"heart_disease\"]\n",
    "    f5 = dataTrain.loc[index][\"bmi\"]\n",
    "    f6 = dataTrain.loc[index][\"HbA1c_level\"]\n",
    "    f7 = dataTrain.loc[index][\"blood_glucose_level\"]\n",
    "    return [f1] +[f2] + [f3] + [f4] + [f5] +[f6] +[f7]\n",
    " "
   ]
  },
  {
   "cell_type": "code",
   "execution_count": 34,
   "metadata": {},
   "outputs": [],
   "source": [
    "X_train = [feature(index) for index in range(len(dataTrain))]\n",
    "y_train = [dataTrain.loc[row]['diabetes'] for row in range(len(dataTrain))]\n",
    "X_test = [feature(row) for row in range(len(dataTest))]\n",
    "Y_test = [dataTest.loc[row]['diabetes'] for row in range(len(dataTest))]"
   ]
  },
  {
   "cell_type": "markdown",
   "metadata": {},
   "source": [
    "Logistic Regression"
   ]
  },
  {
   "cell_type": "code",
   "execution_count": null,
   "metadata": {},
   "outputs": [
    {
     "name": "stderr",
     "output_type": "stream",
     "text": [
      "c:\\Users\\jeyas\\AppData\\Local\\Programs\\Python\\Python312\\Lib\\site-packages\\sklearn\\linear_model\\_logistic.py:469: ConvergenceWarning: lbfgs failed to converge (status=1):\n",
      "STOP: TOTAL NO. of ITERATIONS REACHED LIMIT.\n",
      "\n",
      "Increase the number of iterations (max_iter) or scale the data as shown in:\n",
      "    https://scikit-learn.org/stable/modules/preprocessing.html\n",
      "Please also refer to the documentation for alternative solver options:\n",
      "    https://scikit-learn.org/stable/modules/linear_model.html#logistic-regression\n",
      "  n_iter_i = _check_optimize_result(\n"
     ]
    }
   ],
   "source": [
    "mod_log = linear_model.LogisticRegression(fit_intercept=True)\n",
    "mod_log.fit(X_train,y_train)\n",
    "pred_log = mod_log.predict(X_test)"
   ]
  },
  {
   "cell_type": "code",
   "execution_count": 32,
   "metadata": {},
   "outputs": [
    {
     "name": "stdout",
     "output_type": "stream",
     "text": [
      "accuracy 0.8784\n",
      "\n",
      "BER 0.24140000000000006\n",
      "\n",
      "balanced accuracy 0.7827045180248727\n",
      "\n",
      "F1-Score 0.7173302107728338\n",
      "\n",
      "Recall Score 0.6126\n"
     ]
    }
   ],
   "source": [
    "print(\"accuracy \" + str(accuracy(pred_log,Y_test)) + \"\\n\")\n",
    "print(\"BER \" + str(BER(pred_log,Y_test)) + \"\\n\")\n",
    "print(\"balanced accuracy \" + str(balanced_accuracy_score(pred_log,Y_test)) + \"\\n\")\n",
    "print(\"F1-Score \" + str(f1_score(pred_log,Y_test)) + \"\\n\")\n",
    "print(\"Recall Score \" + str(Recall(pred_log,Y_test)))\n"
   ]
  },
  {
   "cell_type": "markdown",
   "metadata": {},
   "source": [
    "Naive Bayes"
   ]
  },
  {
   "cell_type": "code",
   "execution_count": 36,
   "metadata": {},
   "outputs": [],
   "source": [
    "gnb = GaussianNB()\n",
    "pred_gnb = gnb.fit(X_train, y_train).predict(X_test)"
   ]
  },
  {
   "cell_type": "code",
   "execution_count": 37,
   "metadata": {},
   "outputs": [
    {
     "name": "stdout",
     "output_type": "stream",
     "text": [
      "accuracy 0.8683\n",
      "\n",
      "BER 0.24469999999999992\n",
      "\n",
      "balanced accuracy 0.7724072749323719\n",
      "\n",
      "F1-Score 0.7202469418086201\n",
      "\n",
      "Recall Score 0.63\n"
     ]
    }
   ],
   "source": [
    "print(\"accuracy \" + str(accuracy(pred_gnb,Y_test)) + \"\\n\")\n",
    "print(\"BER \" + str(BER(pred_gnb,Y_test)) + \"\\n\")\n",
    "print(\"balanced accuracy \" + str(balanced_accuracy_score(pred_gnb,Y_test)) + \"\\n\")\n",
    "print(\"F1-Score \" + str(f1_score(pred_gnb,Y_test)) + \"\\n\")\n",
    "print(\"Recall Score \" + str(Recall(pred_gnb,Y_test)))\n"
   ]
  },
  {
   "cell_type": "markdown",
   "metadata": {},
   "source": [
    "Decision Tree Classifier "
   ]
  },
  {
   "cell_type": "code",
   "execution_count": 41,
   "metadata": {},
   "outputs": [],
   "source": [
    "mod_dtc = DecisionTreeClassifier()\n",
    "pred_dtc = mod_dtc.fit(X_train, y_train).predict(X_test)"
   ]
  },
  {
   "cell_type": "code",
   "execution_count": 42,
   "metadata": {},
   "outputs": [
    {
     "name": "stdout",
     "output_type": "stream",
     "text": [
      "accuracy 0.992\n",
      "\n",
      "BER 0.15799999999999992\n",
      "\n",
      "balanced accuracy 0.8799392097264438\n",
      "\n",
      "F1-Score 0.8123515439429929\n",
      "\n",
      "Recall Score 0.684\n"
     ]
    }
   ],
   "source": [
    "print(\"accuracy \" + str(accuracy(pred_dtc,Y_test)) + \"\\n\")\n",
    "print(\"BER \" + str(BER(pred_dtc,Y_test)) + \"\\n\")\n",
    "print(\"balanced accuracy \" + str(balanced_accuracy_score(pred_dtc,Y_test)) + \"\\n\")\n",
    "print(\"F1-Score \" + str(f1_score(pred_dtc,Y_test)) + \"\\n\")\n",
    "print(\"Recall Score \" + str(Recall(pred_dtc,Y_test)))\n"
   ]
  }
 ],
 "metadata": {
  "kernelspec": {
   "display_name": "Python 3",
   "language": "python",
   "name": "python3"
  },
  "language_info": {
   "codemirror_mode": {
    "name": "ipython",
    "version": 3
   },
   "file_extension": ".py",
   "mimetype": "text/x-python",
   "name": "python",
   "nbconvert_exporter": "python",
   "pygments_lexer": "ipython3",
   "version": "3.12.3"
  }
 },
 "nbformat": 4,
 "nbformat_minor": 2
}
