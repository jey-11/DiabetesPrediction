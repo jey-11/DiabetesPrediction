{
 "cells": [
  {
   "cell_type": "code",
   "execution_count": null,
   "metadata": {},
   "outputs": [],
   "source": [
    "import gzip\n",
    "from collections import defaultdict\n",
    "import math\n",
    "import scipy.optimize\n",
    "import matplotlib.pyplot as plt\n",
    "from sklearn import svm\n",
    "import numpy as np\n",
    "from sklearn import linear_model\n",
    "import pandas as pd \n",
    "from ydata_profiling import ProfileReport\n",
    "from sklearn.metrics import balanced_accuracy_score\n",
    "from sklearn.metrics import f1_score"
   ]
  },
  {
   "cell_type": "code",
   "execution_count": 29,
   "metadata": {},
   "outputs": [],
   "source": [
    "file_path_train = \"C:/Users/jeyas/OneDrive/Documents/CSE158/HeartAttackPrediction/Datasets/smote_diabetes_train.csv\"\n",
    "file_path_test = \"C:/Users/jeyas/OneDrive/Documents/CSE158/HeartAttackPrediction/Datasets/diabetes_test.csv\"\n",
    "dataTrain = pd.read_csv(file_path_train) #, index_col = \"Unnamed:0\")\n",
    "dataTest = pd.read_csv(file_path_test)\n",
    "dataTest.rename(columns = {\"Unnamed: 0\": \"index\"}, inplace = True)\n",
    "dataTrain.rename(columns = {\"Unnamed: 0\": \"index\"}, inplace = True)"
   ]
  },
  {
   "cell_type": "markdown",
   "metadata": {},
   "source": [
    "# Error Metrics"
   ]
  },
  {
   "cell_type": "code",
   "execution_count": 55,
   "metadata": {},
   "outputs": [],
   "source": [
    "def accuracy(predictions, y, dataTrain = dataTest):\n",
    "    correct = [1 if dataTrain.loc[row]['diabetes'] == pred else 0 for pred,row in zip(predictions, dataTrain.index)]\n",
    "    return sum(correct) / len(correct)"
   ]
  },
  {
   "cell_type": "code",
   "execution_count": 61,
   "metadata": {},
   "outputs": [],
   "source": [
    "def BER(pred, y):\n",
    "    pred = list(pred)\n",
    "    TP = np.sum([(p and l) for (p,l) in zip(pred, y)])\n",
    "    FP = np.sum([(p and not l) for (p,l) in zip(pred, y)])\n",
    "    TN = np.sum([(not p and not l) for (p,l) in zip(pred, y)])\n",
    "    FN = np.sum([(not p and l) for (p,l) in zip(pred, y)])\n",
    "    TPR = TP / (TP + FN)\n",
    "    TNR = TN / (TN + FP)\n",
    "    BER = 1 - 1/2 * (TPR + TNR)\n",
    "    return BER"
   ]
  },
  {
   "cell_type": "code",
   "execution_count": 65,
   "metadata": {},
   "outputs": [],
   "source": [
    "def Recall(pred, y):\n",
    "    pred = list(pred)\n",
    "    TP = np.sum([(p and l) for (p,l) in zip(pred, y)])\n",
    "    FN = np.sum([(not p and l) for (p,l) in zip(pred, y)])\n",
    "    return TP/(TP + FN)"
   ]
  },
  {
   "cell_type": "markdown",
   "metadata": {},
   "source": [
    "# Features "
   ]
  },
  {
   "cell_type": "code",
   "execution_count": 33,
   "metadata": {},
   "outputs": [],
   "source": [
    "def feature(row, dataTrain = dataTrain):\n",
    "    feat1 = dataTrain.loc[row]['HbA1c_level']\n",
    "    feat2 = dataTrain.loc[row]['blood_glucose_level']\n",
    "    return [1] + [feat1] + [feat2]"
   ]
  },
  {
   "cell_type": "code",
   "execution_count": 34,
   "metadata": {},
   "outputs": [],
   "source": [
    "X_train = [feature(row) for row in range(len(dataTrain))]\n",
    "y_train = [dataTrain.loc[row]['diabetes'] for row in range(len(dataTrain))]\n",
    "X_test = [feature(row) for row in range(len(dataTest))]\n",
    "Y_test = [dataTest.loc[row]['diabetes'] for row in range(len(dataTest))]"
   ]
  },
  {
   "cell_type": "markdown",
   "metadata": {},
   "source": [
    "# Logistic Regression Model"
   ]
  },
  {
   "cell_type": "code",
   "execution_count": 66,
   "metadata": {},
   "outputs": [
    {
     "name": "stdout",
     "output_type": "stream",
     "text": [
      "BER 0.27480000000000004\n",
      "balanced_accuracy_score 0.4804266666666668\n",
      "F1-Score 0.6859428571428572\n",
      "Recall Score 0.6002\n"
     ]
    }
   ],
   "source": [
    "mod = linear_model.LogisticRegression(class_weight='balanced')\n",
    "mod.fit(X_train,y_train)\n",
    "pred = mod.predict(X_test)\n",
    "print(\"BER \" + str(BER(pred, Y_test)))\n",
    "print(\"balanced_accuracy_score \" + str(balanced_accuracy_score(pred,Y_test,adjusted = True))) #,sample_weight = [86500,3500])\n",
    "print(\"F1-Score \" + str(f1_score(pred,Y_test)))\n",
    "print(\"Recall Score \" + str(Recall(pred,Y_test)))"
   ]
  },
  {
   "cell_type": "markdown",
   "metadata": {},
   "source": [
    "# Ridge Classifier"
   ]
  },
  {
   "cell_type": "code",
   "execution_count": 68,
   "metadata": {},
   "outputs": [
    {
     "name": "stdout",
     "output_type": "stream",
     "text": [
      "BER: 0.27160000000000006\n",
      "balanced_accuracy_score: 0.5046755404712662\n",
      "F1-Score: 0.6789598108747045\n",
      "Recall Score 0.5744\n"
     ]
    }
   ],
   "source": [
    "mod = linear_model.RidgeClassifier(class_weight='balanced')\n",
    "mod.fit(X_train,y_train)\n",
    "pred = mod.predict(X_test)\n",
    "print(\"BER: \" + str(BER(pred, Y_test)))\n",
    "print(\"balanced_accuracy_score: \" + str(balanced_accuracy_score(pred,Y_test,adjusted = True))) #,sample_weight = [86500,3500])\n",
    "print(\"F1-Score: \" + str(f1_score(pred,Y_test)))\n",
    "print(\"Recall Score \" + str(Recall(pred,Y_test)))"
   ]
  },
  {
   "cell_type": "markdown",
   "metadata": {},
   "source": [
    "# Baseline Model Based on Threshold with HbA1c Levels"
   ]
  },
  {
   "cell_type": "code",
   "execution_count": 43,
   "metadata": {},
   "outputs": [
    {
     "name": "stdout",
     "output_type": "stream",
     "text": [
      "6.5\n",
      "6.6\n",
      "6.6\n"
     ]
    }
   ],
   "source": [
    "best_accuracy = 0 \n",
    "best_threshold = 0\n",
    "for threshold in np.arange(6.5, 6.7, 0.1):\n",
    "    ypred = [1 if dataTrain.loc[row]['HbA1c_level'] > threshold else 0 for row in dataTrain.index]\n",
    "    correct = [1 if dataTrain.loc[row]['diabetes'] == pred else 0 for pred,row in zip(ypred, dataTrain.index)]\n",
    "    accuracy = sum(correct)/len(correct)\n",
    "    if accuracy > best_accuracy:\n",
    "        best_accuracy = accuracy \n",
    "        best_threshold = threshold \n",
    "    print(best_threshold)\n"
   ]
  },
  {
   "cell_type": "code",
   "execution_count": 69,
   "metadata": {},
   "outputs": [
    {
     "name": "stdout",
     "output_type": "stream",
     "text": [
      "BER: 0.27160000000000006\n",
      "balanced_accuracy_score: 0.5046755404712662\n",
      "F1-Score: 0.6789598108747045\n",
      "Recall Score 0.5744\n"
     ]
    }
   ],
   "source": [
    "# best_threshold = 6.609999999999998\n",
    "ypred = [1 if dataTest.loc[row]['HbA1c_level'] > best_threshold else 0 for row in dataTest.index]\n",
    "correct = [1 if dataTest.loc[row]['diabetes'] == pred else 0 for pred,row in zip(ypred, dataTest.index)]\n",
    "y = [dataTest.loc[row]['diabetes'] for row in dataTest.index]\n",
    "accuracy = sum(correct)/len(correct)\n",
    "print(\"BER: \" + str(BER(pred, Y_test)))\n",
    "print(\"balanced_accuracy_score: \" + str(balanced_accuracy_score(pred,Y_test,adjusted = True))) #,sample_weight = [86500,3500])\n",
    "print(\"F1-Score: \" + str(f1_score(pred,Y_test)))\n",
    "print(\"Recall Score \" + str(Recall(pred,Y_test)))"
   ]
  }
 ],
 "metadata": {
  "kernelspec": {
   "display_name": "Python 3",
   "language": "python",
   "name": "python3"
  },
  "language_info": {
   "codemirror_mode": {
    "name": "ipython",
    "version": 3
   },
   "file_extension": ".py",
   "mimetype": "text/x-python",
   "name": "python",
   "nbconvert_exporter": "python",
   "pygments_lexer": "ipython3",
   "version": "3.12.3"
  }
 },
 "nbformat": 4,
 "nbformat_minor": 2
}
