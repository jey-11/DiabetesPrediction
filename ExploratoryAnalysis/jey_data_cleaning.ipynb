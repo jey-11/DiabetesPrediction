{
 "cells": [
  {
   "cell_type": "code",
   "execution_count": 131,
   "metadata": {},
   "outputs": [],
   "source": [
    "import gzip\n",
    "from collections import defaultdict\n",
    "import math\n",
    "import scipy.optimize\n",
    "import matplotlib.pyplot as plt\n",
    "from sklearn import svm\n",
    "import numpy as np\n",
    "from sklearn import linear_model\n",
    "import pandas as pd \n",
    "from ydata_profiling import ProfileReport\n",
    "import imblearn\n",
    "\n",
    "# Generate and plot a synthetic imbalanced classification dataset\n",
    "from collections import Counter\n",
    "from matplotlib import pyplot\n",
    "from numpy import where\n",
    "from sklearn.datasets import make_classification\n",
    "from imblearn.over_sampling import SMOTE"
   ]
  },
  {
   "cell_type": "code",
   "execution_count": 132,
   "metadata": {},
   "outputs": [],
   "source": [
    "file_path = \"C:/Users/jeyas/OneDrive/Documents/CSE158/HeartAttackPrediction/Datasets/diabetes_prediction_dataset.csv\"\n",
    "dataset = pd.read_csv(file_path)"
   ]
  },
  {
   "cell_type": "code",
   "execution_count": 133,
   "metadata": {},
   "outputs": [],
   "source": [
    "binary = [1 if val == \"Male\" else 0 for val in dataset[\"gender\"]]\n",
    "dataset['gender'] = binary"
   ]
  },
  {
   "cell_type": "code",
   "execution_count": 134,
   "metadata": {},
   "outputs": [],
   "source": [
    "dataset_encoded = pd.get_dummies(dataset, columns = [\"smoking_history\"])\n",
    "dataset_encoded['index'] = dataset_encoded.index\n",
    "positive_dataset = dataset_encoded[dataset_encoded['diabetes'] == 1]\n",
    "negative_dataset = dataset_encoded[dataset_encoded['diabetes'] == 0]"
   ]
  },
  {
   "cell_type": "code",
   "execution_count": 136,
   "metadata": {},
   "outputs": [
    {
     "name": "stdout",
     "output_type": "stream",
     "text": [
      "100000\n"
     ]
    }
   ],
   "source": [
    "print(len(positive_dataset) + len(negative_dataset))"
   ]
  },
  {
   "cell_type": "code",
   "execution_count": 137,
   "metadata": {},
   "outputs": [],
   "source": [
    "dataTest = pd.concat([positive_dataset[:5000],negative_dataset[:5000]])\n",
    "dataTrain = pd.concat([positive_dataset[5000:],negative_dataset[5000:]])\n",
    "dataTrain = dataTrain.reset_index(drop = True)\n",
    "dataTest = dataTest.reset_index(drop = True)"
   ]
  },
  {
   "cell_type": "code",
   "execution_count": null,
   "metadata": {},
   "outputs": [],
   "source": [
    "X_train = dataTrain.loc[:,dataTrain.columns != 'diabetes']\n",
    "y_train = dataTrain['diabetes']\n",
    "X_test = dataTest.loc[:,dataTest.columns != 'diabetes']\n",
    "y_test = dataTest['diabetes']\n"
   ]
  },
  {
   "cell_type": "code",
   "execution_count": 125,
   "metadata": {},
   "outputs": [],
   "source": [
    "oversample = SMOTE(random_state=42)\n",
    "X_oversample, y_oversample = oversample.fit_resample(X_train, y_train)"
   ]
  },
  {
   "cell_type": "code",
   "execution_count": 127,
   "metadata": {},
   "outputs": [
    {
     "name": "stdout",
     "output_type": "stream",
     "text": [
      "Before SMOTE: diabetes\n",
      "0    86500\n",
      "1     3500\n",
      "Name: count, dtype: int64\n",
      "After SMOTE: diabetes\n",
      "1    86500\n",
      "0    86500\n",
      "Name: count, dtype: int64\n"
     ]
    }
   ],
   "source": [
    "print(\"Before SMOTE:\", y_train.value_counts())\n",
    "print(\"After SMOTE:\", pd.Series(y_oversample).value_counts())"
   ]
  },
  {
   "cell_type": "code",
   "execution_count": 129,
   "metadata": {},
   "outputs": [],
   "source": [
    "X_oversample['diabetes'] = y_oversample"
   ]
  },
  {
   "cell_type": "code",
   "execution_count": 138,
   "metadata": {},
   "outputs": [],
   "source": [
    "dataTrain.to_csv(\"../Datasets/diabetes_train.csv\")\n",
    "dataTest.to_csv(\"../Datasets/diabetes_test.csv\")"
   ]
  },
  {
   "cell_type": "code",
   "execution_count": 130,
   "metadata": {},
   "outputs": [],
   "source": [
    "X_oversample.to_csv(\"../Datasets/smote_diabetes_train.csv\")"
   ]
  },
  {
   "cell_type": "code",
   "execution_count": null,
   "metadata": {},
   "outputs": [],
   "source": []
  }
 ],
 "metadata": {
  "kernelspec": {
   "display_name": "Python 3",
   "language": "python",
   "name": "python3"
  },
  "language_info": {
   "codemirror_mode": {
    "name": "ipython",
    "version": 3
   },
   "file_extension": ".py",
   "mimetype": "text/x-python",
   "name": "python",
   "nbconvert_exporter": "python",
   "pygments_lexer": "ipython3",
   "version": "3.12.3"
  }
 },
 "nbformat": 4,
 "nbformat_minor": 2
}
