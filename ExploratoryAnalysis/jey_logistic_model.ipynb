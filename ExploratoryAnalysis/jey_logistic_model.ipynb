{
 "cells": [
  {
   "cell_type": "code",
   "execution_count": 2,
   "metadata": {},
   "outputs": [],
   "source": [
    "import gzip\n",
    "from collections import defaultdict\n",
    "import math\n",
    "import scipy.optimize\n",
    "import matplotlib.pyplot as plt\n",
    "from sklearn import svm\n",
    "import numpy as np\n",
    "from sklearn import linear_model\n",
    "import pandas as pd \n",
    "from ydata_profiling import ProfileReport"
   ]
  },
  {
   "cell_type": "code",
   "execution_count": 24,
   "metadata": {},
   "outputs": [],
   "source": [
    "file_path_train = \"C:/Users/jeyas/OneDrive/Documents/CSE158/HeartAttackPrediction/Datasets/diabetes_train.csv\"\n",
    "file_path_test = \"C:/Users/jeyas/OneDrive/Documents/CSE158/HeartAttackPrediction/Datasets/diabetes_test.csv\"\n",
    "dataTrain = pd.read_csv(file_path_train) #, index_col = \"Unnamed:0\")\n",
    "dataTest = pd.read_csv(file_path_test)\n",
    "dataTest.rename(columns = {\"Unnamed: 0\": \"index\"}, inplace = True)\n",
    "dataTrain.rename(columns = {\"Unnamed: 0\": \"index\"}, inplace = True)"
   ]
  },
  {
   "cell_type": "markdown",
   "metadata": {},
   "source": [
    "Logistic Regression Model"
   ]
  },
  {
   "cell_type": "code",
   "execution_count": 22,
   "metadata": {},
   "outputs": [],
   "source": [
    "def accuracy(predictions, y):\n",
    "    correct = predictions == y # Binary vector indicating which predictions were correct\n",
    "    return sum(correct) / len(correct)"
   ]
  },
  {
   "cell_type": "code",
   "execution_count": 23,
   "metadata": {},
   "outputs": [],
   "source": [
    "def BER(pred, y):\n",
    "    TP = np.sum([(p and l) for (p,l) in zip(pred, y)])\n",
    "    FP = np.sum([(p and not l) for (p,l) in zip(pred, y)])\n",
    "    TN = np.sum([(not p and not l) for (p,l) in zip(pred, y)])\n",
    "    FN = np.sum([(not p and l) for (p,l) in zip(pred, y)])\n",
    "    TPR = TP / (TP + FN)\n",
    "    TNR = TN / (TN + FP)\n",
    "    BER = 1 - 1/2 * (TPR + TNR)\n",
    "    return BER"
   ]
  },
  {
   "cell_type": "code",
   "execution_count": 38,
   "metadata": {},
   "outputs": [
    {
     "data": {
      "text/plain": [
       "Index(['index', 'gender', 'age', 'hypertension', 'heart_disease',\n",
       "       'smoking_history', 'bmi', 'HbA1c_level', 'blood_glucose_level',\n",
       "       'diabetes'],\n",
       "      dtype='object')"
      ]
     },
     "execution_count": 38,
     "metadata": {},
     "output_type": "execute_result"
    }
   ],
   "source": [
    "dataTrain.columns"
   ]
  },
  {
   "cell_type": "code",
   "execution_count": 39,
   "metadata": {},
   "outputs": [],
   "source": [
    "def feature(row, dataTrain = dataTrain):\n",
    "    feat1 = dataTrain.loc[row]['HbA1c_level']\n",
    "    feat2 = dataTrain.loc[row]['blood_glucose_level']\n",
    "    return [1] + [feat1] + [feat2]"
   ]
  },
  {
   "cell_type": "code",
   "execution_count": 40,
   "metadata": {},
   "outputs": [],
   "source": [
    "X_train = [feature(row) for row in range(len(dataTrain))]\n",
    "y_train = [dataTrain.loc[row]['diabetes'] for row in range(len(dataTrain))]\n",
    "X_test = [feature(row) for row in range(len(dataTest))]\n",
    "Y_test = [dataTest.loc[row]['diabetes'] for row in range(len(dataTest))]"
   ]
  },
  {
   "cell_type": "code",
   "execution_count": 41,
   "metadata": {},
   "outputs": [],
   "source": [
    "mod = linear_model.LogisticRegression(C=1)\n",
    "mod.fit(X_train,y_train)\n",
    "pred = mod.predict(X_test)"
   ]
  },
  {
   "cell_type": "code",
   "execution_count": 42,
   "metadata": {},
   "outputs": [
    {
     "data": {
      "text/plain": [
       "0.5054605649317756"
      ]
     },
     "execution_count": 42,
     "metadata": {},
     "output_type": "execute_result"
    }
   ],
   "source": [
    "BER(pred, Y_test)"
   ]
  },
  {
   "cell_type": "markdown",
   "metadata": {},
   "source": [
    "Baseline Model Based on Threshold with HbA1c Levels"
   ]
  },
  {
   "cell_type": "code",
   "execution_count": 18,
   "metadata": {},
   "outputs": [
    {
     "name": "stdout",
     "output_type": "stream",
     "text": [
      "6.5\n",
      "6.5\n",
      "6.5\n",
      "6.5\n",
      "6.5\n",
      "6.5\n",
      "6.5\n",
      "6.5\n",
      "6.5\n",
      "6.5\n",
      "6.5\n",
      "6.609999999999998\n",
      "6.609999999999998\n",
      "6.609999999999998\n",
      "6.609999999999998\n",
      "6.609999999999998\n",
      "6.609999999999998\n",
      "6.609999999999998\n",
      "6.609999999999998\n",
      "6.609999999999998\n",
      "6.609999999999998\n"
     ]
    }
   ],
   "source": [
    "best_accuracy = 0 \n",
    "best_threshold = 0\n",
    "for threshold in np.arange(6.5, 6.7, 0.01):\n",
    "    ypred = [1 if dataTrain.loc[row]['HbA1c_level'] > threshold else 0 for row in dataTrain.index]\n",
    "    correct = [1 if dataTrain.loc[row]['diabetes'] == pred else 0 for pred,row in zip(ypred, dataTrain.index)]\n",
    "    accuracy = sum(correct)/len(correct)\n",
    "    if accuracy > best_accuracy:\n",
    "        best_accuracy = accuracy \n",
    "        best_threshold = threshold \n",
    "    print(best_threshold)\n"
   ]
  },
  {
   "cell_type": "code",
   "execution_count": 25,
   "metadata": {},
   "outputs": [
    {
     "name": "stdout",
     "output_type": "stream",
     "text": [
      "0.9529\n"
     ]
    }
   ],
   "source": [
    "ypred = [1 if dataTest.loc[row]['HbA1c_level'] > best_threshold else 0 for row in dataTest.index]\n",
    "correct = [1 if dataTest.loc[row]['diabetes'] == pred else 0 for pred,row in zip(ypred, dataTest.index)]\n",
    "y = [dataTest.loc[row]['diabetes'] for row in dataTest.index]\n",
    "accuracy = sum(correct)/len(correct)\n",
    "print(accuracy)"
   ]
  },
  {
   "cell_type": "code",
   "execution_count": 27,
   "metadata": {},
   "outputs": [
    {
     "data": {
      "text/plain": [
       "0.2700688073394495"
      ]
     },
     "execution_count": 27,
     "metadata": {},
     "output_type": "execute_result"
    }
   ],
   "source": [
    "BER(ypred, y)"
   ]
  }
 ],
 "metadata": {
  "kernelspec": {
   "display_name": "Python 3",
   "language": "python",
   "name": "python3"
  },
  "language_info": {
   "codemirror_mode": {
    "name": "ipython",
    "version": 3
   },
   "file_extension": ".py",
   "mimetype": "text/x-python",
   "name": "python",
   "nbconvert_exporter": "python",
   "pygments_lexer": "ipython3",
   "version": "3.12.3"
  }
 },
 "nbformat": 4,
 "nbformat_minor": 2
}
